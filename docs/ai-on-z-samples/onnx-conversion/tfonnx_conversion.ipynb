{
 "cells": [
  {
   "cell_type": "markdown",
   "id": "dd2dc185",
   "metadata": {
    "tags": []
   },
   "source": [
    "# Converting a TensorFlow model to ONNX using TensorFlow-ONNX (TFONNX)"
   ]
  },
  {
   "cell_type": "markdown",
   "id": "2a6df7ad-6920-4136-b659-a15c0869a327",
   "metadata": {},
   "source": [
    "_Note: This example borrows from a PyTorch sample test used in BentoML_"
   ]
  },
  {
   "cell_type": "markdown",
   "id": "60544eea",
   "metadata": {},
   "source": [
    "# Section 1: Create a simple TensorFlow model."
   ]
  },
  {
   "cell_type": "markdown",
   "id": "cbb2458a",
   "metadata": {},
   "source": [
    "## Section 1.1: Import the packages we need:"
   ]
  },
  {
   "cell_type": "code",
   "execution_count": null,
   "id": "8b9e4ac0",
   "metadata": {},
   "outputs": [],
   "source": [
    "import numpy as np\n",
    "import tensorflow as tf"
   ]
  },
  {
   "cell_type": "markdown",
   "id": "ca0783d3",
   "metadata": {},
   "source": [
    "## Section 1.2: Build a simple model using the TensorFlow function capability."
   ]
  },
  {
   "cell_type": "code",
   "execution_count": null,
   "id": "13ffa16b",
   "metadata": {},
   "outputs": [],
   "source": [
    "class simplematmul(tf.Module):\n",
    "    def __init__(self):\n",
    "        super().__init__()\n",
    "        self.weights = np.asfarray([[1.0], [1.0], [1.0], [1.0], [1.0]], dtype=np.float32)\n",
    "        self.dense = lambda inputs: tf.matmul(inputs, self.weights)\n",
    "\n",
    "    @tf.function(input_signature=[tf.TensorSpec(shape=[1, 5], dtype=tf.float32, name='inputs')])\n",
    "    def __call__(self, inputs):\n",
    "        return self.dense(inputs)\n"
   ]
  },
  {
   "cell_type": "code",
   "execution_count": null,
   "id": "32f731a5",
   "metadata": {},
   "outputs": [],
   "source": [
    "# Create an instance of our model:\n",
    "model1 = simplematmul()"
   ]
  },
  {
   "cell_type": "markdown",
   "id": "94b91231",
   "metadata": {},
   "source": [
    "## Section 1.3: Test our model - it should return a result of 15."
   ]
  },
  {
   "cell_type": "code",
   "execution_count": null,
   "id": "7d98af92",
   "metadata": {},
   "outputs": [],
   "source": [
    "#  Let's create test data to make sure our model is working\n",
    "test_data = np.array([[1, 2, 3, 4, 5]], dtype=np.float32)\n",
    "test_tensor = np.asfarray(test_data)"
   ]
  },
  {
   "cell_type": "code",
   "execution_count": null,
   "id": "1fc84da3",
   "metadata": {},
   "outputs": [],
   "source": [
    "print(model1(test_tensor))"
   ]
  },
  {
   "cell_type": "markdown",
   "id": "d6a7fcbf",
   "metadata": {},
   "source": [
    "## Section 1.4: Save our model. "
   ]
  },
  {
   "cell_type": "code",
   "execution_count": null,
   "id": "2b1b5a49",
   "metadata": {},
   "outputs": [],
   "source": [
    "saved_dir = './tmp'\n",
    "tf.saved_model.save(model1, './tmp',signatures=model1.__call__.get_concrete_function(\n",
    "    tf.TensorSpec(shape=[1, 5], dtype=tf.float32, name='inputs')))"
   ]
  },
  {
   "cell_type": "markdown",
   "id": "e9953cf4",
   "metadata": {},
   "source": [
    "# Section 2: Convert our simple matrix multiply model using TFONNX"
   ]
  },
  {
   "cell_type": "markdown",
   "id": "f2a96f1a",
   "metadata": {},
   "source": [
    "## Section 2.1 Model Conversion with tensorflow-onnx\n",
    "\n",
    "tensorflow-onnx is an open-source onnx model convertor, available through PYPI and from source here: https://github.com/onnx/tensorflow-onnx \n",
    "\n",
    "tensorflow-onnx can convert TensorFlow, TF.Keras and tflite models to the ONNX format.\n",
    "Both command line and python API conversion is supported. \n",
    "\n",
    "The command line tool is much simpler to use for most use cases.\n",
    "\n",
    "We recommend you always convert your model on the platform you trained it on. (i.e. if trained on Z, convert on Z)"
   ]
  },
  {
   "cell_type": "code",
   "execution_count": null,
   "id": "4c7c4673",
   "metadata": {},
   "outputs": [],
   "source": [
    "# Execute tensorflow-onnx command line tool, specifying a target opset of 11 to target for ONNX\n",
    "!python -m tf2onnx.convert --opset 11 --fold_const --saved-model $saved_dir --output tf_matmul.onnx"
   ]
  },
  {
   "cell_type": "code",
   "execution_count": null,
   "id": "ff4f2351",
   "metadata": {},
   "outputs": [],
   "source": []
  }
 ],
 "metadata": {
  "interpreter": {
   "hash": "5b1396a34a05c172adb1f027fd5e1f06a0f31bc6679d97029342dad39b0921b5"
  },
  "kernelspec": {
   "display_name": "Python 3 (ipykernel)",
   "language": "python",
   "name": "python3"
  },
  "language_info": {
   "codemirror_mode": {
    "name": "ipython",
    "version": 3
   },
   "file_extension": ".py",
   "mimetype": "text/x-python",
   "name": "python",
   "nbconvert_exporter": "python",
   "pygments_lexer": "ipython3",
   "version": "3.8.11"
  }
 },
 "nbformat": 4,
 "nbformat_minor": 5
}
